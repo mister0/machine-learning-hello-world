{
 "cells": [
  {
   "cell_type": "code",
   "execution_count": null,
   "metadata": {},
   "outputs": [],
   "source": [
    "import pandas as pd\n",
    "from sklearn.model_selection import train_test_split\n",
    "from sklearn.metrics import mean_absolute_error\n",
    "from sklearn.tree import DecisionTreeRegressor\n",
    "from sklearn.linear_model import LinearRegression\n",
    "from sklearn import tree"
   ]
  },
  {
   "cell_type": "code",
   "execution_count": null,
   "metadata": {},
   "outputs": [],
   "source": [
    "# Step 1 : Read our input data descriping houses\n",
    "file_path = './houses.csv'\n",
    "data = pd.read_csv(file_path)\n",
    "data.head()"
   ]
  },
  {
   "cell_type": "code",
   "execution_count": null,
   "metadata": {},
   "outputs": [],
   "source": [
    "# Statistics about input data\n",
    "data.describe()"
   ]
  },
  {
   "cell_type": "code",
   "execution_count": null,
   "metadata": {},
   "outputs": [],
   "source": [
    "# data.columns\n",
    "features = ['Rooms', 'Bathroom', 'Landsize', 'Lattitude', 'Longtitude']\n",
    "full_input_data = data[features]\n",
    "full_output_data = data.Price"
   ]
  },
  {
   "cell_type": "code",
   "execution_count": null,
   "metadata": {},
   "outputs": [],
   "source": [
    "# Step 2 : Split the data into 2 parts (80% for training, 20% for validation)\n",
    "training_input, validation_input, training_output, validation_output = train_test_split(full_input_data, full_output_data, train_size=0.8, test_size=0.2, random_state=0)"
   ]
  },
  {
   "cell_type": "code",
   "execution_count": null,
   "metadata": {},
   "outputs": [],
   "source": [
    "# Step 3 : Create a simple model (Decision tree)\n",
    "model = DecisionTreeRegressor(max_leaf_nodes=10)"
   ]
  },
  {
   "cell_type": "code",
   "execution_count": null,
   "metadata": {},
   "outputs": [],
   "source": [
    "# Step 4 : Train our model with 80% of the input data\n",
    "model.fit(training_input, training_output)"
   ]
  },
  {
   "cell_type": "code",
   "execution_count": null,
   "metadata": {},
   "outputs": [],
   "source": [
    "# Step 5 : Validate our model (Measure how good is it performing using 20% of our data)\n",
    "predictions = model.predict(validation_input)\n",
    "df = pd.DataFrame({'Actual': validation_output, 'Predicted': predictions})\n",
    "df.head(10)\n",
    "# print(model.predict(full_input_data))"
   ]
  },
  {
   "cell_type": "code",
   "execution_count": null,
   "metadata": {},
   "outputs": [],
   "source": [
    "print(mean_absolute_error(validation_output, predictions))"
   ]
  },
  {
   "cell_type": "code",
   "execution_count": null,
   "metadata": {},
   "outputs": [],
   "source": [
    "# Step 6 : Visualize our tree/model\n",
    "# tree.export_graphviz(model, out_file='tree_data' , feature_names=features, filled = True)"
   ]
  },
  {
   "cell_type": "code",
   "execution_count": null,
   "metadata": {},
   "outputs": [],
   "source": [
    "# Step 7 : Create similar models with different configs and validate them\n",
    "def get_mae(max_leaf_nodes, train_X, validation_X, train_y, validation_y):\n",
    "    model = DecisionTreeRegressor(max_leaf_nodes=max_leaf_nodes, random_state=0)\n",
    "    model.fit(train_X, train_y)\n",
    "    preds_val = model.predict(validation_X)\n",
    "    mae = mean_absolute_error(validation_y, preds_val)\n",
    "    return(mae)\n",
    "\n",
    "\n",
    "candidate_max_leaf_nodes = [4, 5, 25, 50, 100, 250, 500, 700, 1000]\n",
    "# A loop to find the ideal tree size from candidate_max_leaf_nodes\n",
    "for max_leaf_nodes in candidate_max_leaf_nodes:\n",
    "    my_mae = get_mae(max_leaf_nodes, training_input, validation_input, training_output, validation_output)\n",
    "    print(\"Max leaf nodes: %d  \\t\\t Mean Absolute Error:  %d\" %(max_leaf_nodes, my_mae))"
   ]
  },
  {
   "cell_type": "code",
   "execution_count": null,
   "metadata": {},
   "outputs": [],
   "source": [
    "# Step 8 : Create a new different model (linear regression)\n",
    "model = LinearRegression()\n",
    "model.fit(training_input, training_output)\n",
    "predictions_for_linear_regression = model.predict(validation_input)\n",
    "# And validate it\n",
    "mae = mean_absolute_error(validation_output, predictions_for_linear_regression)\n",
    "print(\"Linear regression - Mean Absolute Error:  %d\" %(mae))"
   ]
  },
  {
   "cell_type": "code",
   "execution_count": null,
   "metadata": {},
   "outputs": [],
   "source": [
    "# Step 9 : Understand the coeffecients of linear regression model\n",
    "coeff_df = pd.DataFrame(model.coef_, features, columns=['Coefficient'])\n",
    "print(model.coef_)\n",
    "# predicted_price = coff1 * Rooms + coff2 * Bathroom + coff3 * landsize + coff4 * lattitude + coff5 * longitude"
   ]
  },
  {
   "cell_type": "code",
   "execution_count": null,
   "metadata": {},
   "outputs": [],
   "source": []
  }
 ],
 "metadata": {
  "kernelspec": {
   "display_name": "Python 3",
   "language": "python",
   "name": "python3"
  },
  "language_info": {
   "codemirror_mode": {
    "name": "ipython",
    "version": 3
   },
   "file_extension": ".py",
   "mimetype": "text/x-python",
   "name": "python",
   "nbconvert_exporter": "python",
   "pygments_lexer": "ipython3",
   "version": "3.7.3"
  }
 },
 "nbformat": 4,
 "nbformat_minor": 2
}
